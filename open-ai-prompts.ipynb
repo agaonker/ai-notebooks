{
 "cells": [
  {
   "cell_type": "code",
   "execution_count": 2,
   "metadata": {},
   "outputs": [],
   "source": [
    "%%capture\n",
    "#  libraries\n",
    "!pip install --upgrade openai\n",
    "!pip install --upgrade langchain\n",
    "# store the API key in a .env file\n",
    "!pip install --upgrade python-dotenv"
   ]
  },
  {
   "cell_type": "code",
   "execution_count": 40,
   "metadata": {},
   "outputs": [],
   "source": [
    "import openai\n",
    "#from langchain.llms import OpenAI\n",
    "from dotenv import load_dotenv\n",
    "\n",
    "import os\n",
    "import IPython"
   ]
  },
  {
   "cell_type": "markdown",
   "metadata": {},
   "source": [
    "Load environment variables. You can use anything you like but I used python-dotenv. Just create a .env file with your OPENAI_API_KEY then load it."
   ]
  },
  {
   "cell_type": "code",
   "execution_count": 41,
   "metadata": {},
   "outputs": [],
   "source": [
    "load_dotenv()\n",
    "\n",
    "# API configuration\n",
    "openai.api_key = os.getenv(\"OPENAI_API_KEY\")\n",
    "\n",
    "# for LangChain\n",
    "#os.environ[\"OPENAI_API_KEY\"] = os.getenv(\"OPENAI_API_KEY\")"
   ]
  },
  {
   "cell_type": "code",
   "execution_count": 42,
   "metadata": {},
   "outputs": [],
   "source": [
    "def set_open_params(\n",
    "    model=\"gpt-3.5-turbo\",\n",
    "    temperature=0.7,\n",
    "    max_tokens=256,\n",
    "    top_p=1,\n",
    "    frequency_penalty=0,\n",
    "    presence_penalty=0,\n",
    "):\n",
    "    \"\"\" set openai parameters\"\"\"\n",
    "\n",
    "    openai_params = {}    \n",
    "\n",
    "    openai_params['model'] = model\n",
    "    openai_params['temperature'] = temperature\n",
    "    openai_params['max_tokens'] = max_tokens\n",
    "    openai_params['top_p'] = top_p\n",
    "    openai_params['frequency_penalty'] = frequency_penalty\n",
    "    openai_params['presence_penalty'] = presence_penalty\n",
    "    return openai_params\n",
    "\n",
    "def get_completion(params, messages):\n",
    "    \"\"\" GET completion from openai api\"\"\"\n",
    "\n",
    "    response = openai.chat.completions.create(\n",
    "        model = params['model'],\n",
    "        messages = messages,\n",
    "        temperature = params['temperature'],\n",
    "        max_tokens = params['max_tokens'],\n",
    "        top_p = params['top_p'],\n",
    "        frequency_penalty = params['frequency_penalty'],\n",
    "        presence_penalty = params['presence_penalty'],\n",
    "    )\n",
    "    return response"
   ]
  },
  {
   "cell_type": "markdown",
   "metadata": {},
   "source": [
    "## Basic prompt example:  Convert to Hindi "
   ]
  },
  {
   "cell_type": "code",
   "execution_count": 43,
   "metadata": {},
   "outputs": [
    {
     "name": "stdout",
     "output_type": "stream",
     "text": [
      "'तेज़ भूरा लोमड़ी सुस्त कुत्ते पर छलांग लगाता है।'\n"
     ]
    }
   ],
   "source": [
    "# basic example\n",
    "params = set_open_params()\n",
    "\n",
    "prompt = \"Translate the following English sentence to Hindi: 'The quick brown fox jumps over the lazy dog.'\"\n",
    "\n",
    "messages = [\n",
    "    {\n",
    "        \"role\": \"user\",\n",
    "        \"content\": prompt\n",
    "    }\n",
    "]\n",
    "\n",
    "response = get_completion(params, messages)\n",
    "print(response.choices[0].message.content)"
   ]
  },
  {
   "cell_type": "code",
   "execution_count": 19,
   "metadata": {},
   "outputs": [
    {
     "data": {
      "text/markdown": [
       " blue and dotted with fluffy white clouds."
      ],
      "text/plain": [
       "<IPython.core.display.Markdown object>"
      ]
     },
     "execution_count": 19,
     "metadata": {},
     "output_type": "execute_result"
    }
   ],
   "source": [
    "params = set_open_params(temperature=0)\n",
    "response = get_completion(params, messages)\n",
    "IPython.display.Markdown(response.choices[0].message.content)"
   ]
  },
  {
   "cell_type": "markdown",
   "metadata": {},
   "source": [
    "## Text Summarization\n"
   ]
  },
  {
   "cell_type": "code",
   "execution_count": 44,
   "metadata": {},
   "outputs": [
    {
     "data": {
      "text/markdown": [
       "Neural networks are like computer brains that can learn from data and do smart things."
      ],
      "text/plain": [
       "<IPython.core.display.Markdown object>"
      ]
     },
     "execution_count": 44,
     "metadata": {},
     "output_type": "execute_result"
    }
   ],
   "source": [
    "params = set_open_params(temperature=0, max_tokens=100)\n",
    "prompt = \"\"\"Neural networks are computational models inspired by the structure and function of the human brain. They are a fundamental component of modern artificial intelligence, enabling machines to learn from data and perform tasks that traditionally required human intelligence.\n",
    "\n",
    "At their core, neural networks consist of interconnected nodes, or \"neurons,\" organized into layers. Each neuron processes input data and passes it through an activation function to produce an output. Through a process called training, neural networks adjust the strength of connections between neurons to optimize their performance on a specific task.\n",
    "\n",
    "One of the key strengths of neural networks is their ability to automatically discover patterns and relationships in complex data, making them well-suited for tasks such as image and speech recognition, natural language processing, and predictive analytics.\n",
    "\n",
    "As technology advances, neural networks continue to evolve, with architectures such as convolutional neural networks (CNNs) for image processing, recurrent neural networks (RNNs) for sequential data, and transformers for natural language understanding pushing the boundaries of AI capabilities.\n",
    "Summarize succintly, one liner like I am 5:\"\"\"\n",
    "\n",
    "messages = [\n",
    "    {\n",
    "        \"role\": \"user\",\n",
    "        \"content\": prompt\n",
    "    }\n",
    "]\n",
    "\n",
    "response = get_completion(params, messages)\n",
    "IPython.display.Markdown(response.choices[0].message.content)"
   ]
  },
  {
   "cell_type": "markdown",
   "metadata": {},
   "source": [
    "## Question Answering"
   ]
  },
  {
   "cell_type": "code",
   "execution_count": 45,
   "metadata": {},
   "outputs": [
    {
     "data": {
      "text/markdown": [
       "Gravity is the force of attraction between all objects in the universe."
      ],
      "text/plain": [
       "<IPython.core.display.Markdown object>"
      ]
     },
     "execution_count": 45,
     "metadata": {},
     "output_type": "execute_result"
    }
   ],
   "source": [
    "prompt = \"\"\"Answer the question based on the context below. Keep the answer short and concise. Respond \"Unsure about answer\" if not sure about the answer.\n",
    "\n",
    "Context: If Earth is moving so fast, why don’t we fly off? Thank gravity for that. Gravity is the force of attraction between all objects in the universe. An object’s gravity depends on its mass —its total amount of matter , or “stuff.” The more massive the object, the stronger the gravitational force. And the closer two objects are, the stronger the gravitational pull between them. Gravity is what keeps your feet on the ground—and what keeps Earth and the planets orbiting around the Sun instead of floating away. \n",
    "\n",
    "When you jump, you always fall back to Earth. What goes up must come down, right? Not quite! Something can go up and not come down if it reaches the escape velocity, the speed at which it breaks free from a planet’s gravitational pull. That’s how rockets work. Their engines are designed to push the rocket up so hard that it moves fast enough to get away. The universe is full of “runaway” stars and planets that escaped the gravity of their neighbors..\n",
    "\n",
    "Question: What is gravity?\n",
    "\n",
    "Answer:\"\"\"\n",
    "\n",
    "messages = [\n",
    "    {\n",
    "        \"role\": \"user\",\n",
    "        \"content\": prompt\n",
    "    }\n",
    "]\n",
    "\n",
    "response = get_completion(params, messages)\n",
    "IPython.display.Markdown(response.choices[0].message.content)"
   ]
  },
  {
   "cell_type": "markdown",
   "metadata": {},
   "source": [
    "## Sentiment analysis  (lets check some sarcasm) \n",
    "\n",
    "### Zero-Shot Prompting\n"
   ]
  },
  {
   "cell_type": "code",
   "execution_count": 47,
   "metadata": {},
   "outputs": [
    {
     "data": {
      "text/markdown": [
       "Negative"
      ],
      "text/plain": [
       "<IPython.core.display.Markdown object>"
      ]
     },
     "execution_count": 47,
     "metadata": {},
     "output_type": "execute_result"
    }
   ],
   "source": [
    "prompt = \"\"\"Classify the text into neutral, negative or positive.\n",
    "\n",
    "Text: I walked into my hotel room and wondered if the interior decorators thought orange was the new black..\n",
    "\n",
    "Sentiment:\"\"\"\n",
    "\n",
    "messages = [\n",
    "    {\n",
    "        \"role\": \"user\",\n",
    "        \"content\": prompt\n",
    "    }\n",
    "]\n",
    "\n",
    "response = get_completion(params, messages)\n",
    "IPython.display.Markdown(response.choices[0].message.content)"
   ]
  },
  {
   "cell_type": "markdown",
   "metadata": {},
   "source": [
    "## SQL code  Generation\n"
   ]
  },
  {
   "cell_type": "code",
   "execution_count": 55,
   "metadata": {},
   "outputs": [
    {
     "data": {
      "text/markdown": [
       "SELECT s.StudentName, s.JobSalary\n",
       "FROM students s\n",
       "WHERE s.DepartmentId = (SELECT d.DepartmentId\n",
       "                        FROM departments d\n",
       "                        WHERE d.DepartmentName = 'Computer Science')\n",
       "AND s.JobSalary = (SELECT DISTINCT s2.JobSalary\n",
       "                   FROM students s2\n",
       "                   WHERE s2.DepartmentId = (SELECT d2.DepartmentId\n",
       "                                            FROM departments d2\n",
       "                                            WHERE d2.DepartmentName = 'Computer Science')\n",
       "                   ORDER BY s2.JobSalary DESC\n",
       "                   LIMIT 1 OFFSET 3)"
      ],
      "text/plain": [
       "<IPython.core.display.Markdown object>"
      ]
     },
     "execution_count": 55,
     "metadata": {},
     "output_type": "execute_result"
    }
   ],
   "source": [
    "params = set_open_params(\n",
    "    temperature=0,\n",
    "    max_tokens=500,\n",
    "    top_p=1,\n",
    "    frequency_penalty=0,\n",
    "    presence_penalty=0,\n",
    ")\n",
    "prompt = \"\\\"\\\"\\\"\\nTable departments, columns = [DepartmentId, DepartmentName]\\nTable students, columns = [DepartmentId, StudentId, StudentName, JobSalary]\\nCreate a MySQL query for all students in the Computer Science Department with fourth highest jobsalary without using LIMIT  OFFSET\\n\\\"\\\"\\\"\"\n",
    "\n",
    "messages = [\n",
    "    {\n",
    "        \"role\": \"user\",\n",
    "        \"content\": prompt\n",
    "    }\n",
    "]\n",
    "\n",
    "response = get_completion(params, messages)\n",
    "IPython.display.Markdown(response.choices[0].message.content)"
   ]
  },
  {
   "cell_type": "markdown",
   "metadata": {},
   "source": [
    "## python code  Generation\n"
   ]
  },
  {
   "cell_type": "code",
   "execution_count": 58,
   "metadata": {},
   "outputs": [
    {
     "data": {
      "text/markdown": [
       "```python\n",
       "import csv\n",
       "\n",
       "def read_sales_data(file_path):\n",
       "    sales_data = []\n",
       "    try:\n",
       "        with open(file_path, 'r') as file:\n",
       "            reader = csv.reader(file)\n",
       "            next(reader)  # Skip header row\n",
       "            for row in reader:\n",
       "                sales_data.append({\n",
       "                    'product_id': row[0],\n",
       "                    'product_name': row[1],\n",
       "                    'quantity_sold': int(row[2]),\n",
       "                    'sales_amount': float(row[3])\n",
       "                })\n",
       "    except FileNotFoundError:\n",
       "        print(\"File not found. Please provide a valid file path.\")\n",
       "    except IndexError:\n",
       "        print(\"Incorrect file format. Please make sure the file contains product ID, product name, quantity sold, and sales amount.\")\n",
       "    \n",
       "    return sales_data\n",
       "\n",
       "def calculate_total_sales(sales_data):\n",
       "    total_sales = sum([sale['sales_amount'] for sale in sales_data])\n",
       "    return total_sales\n",
       "\n",
       "def find_best_selling_product(sales_data):\n",
       "    best_selling_product = max(sales_data, key=lambda x: x['quantity_sold'])\n",
       "    return best_selling_product\n",
       "\n",
       "def calculate_total_sales_per_category(sales_data):\n",
       "    total_sales_per_category = {}\n",
       "    for sale in sales_data:\n",
       "        category = sale['product_name'].split()[0]  # Assuming the category is the first word in the product name\n",
       "        if category in total_sales_per_category:\n",
       "            total_sales_per_category[category] += sale['sales_amount']\n",
       "        else:\n",
       "            total_sales_per_category[category] = sale['sales_amount']\n",
       "    return total_sales_per_category\n",
       "\n",
       "def generate_summary_report(total_sales, best_selling_product, total_sales_per_category):\n",
       "    print(f\"Total sales amount: ${total_sales}\")\n",
       "    print(f\"Best-selling product: {best_selling_product['product_name']} (Quantity Sold: {best_selling_product['quantity_sold']})\")\n",
       "    print(\"Total sales for each product category:\")\n",
       "    for category, total_sales in total_sales_per_category.items():\n",
       "        print(f\"{category}: ${total_sales}\")\n",
       "    \n",
       "    with open('summary_report.csv', 'w', newline='') as file:\n",
       "        writer = csv.writer(file)\n",
       "        writer.writerow([\"Category\", \"Total Sales\"])\n",
       "        for category, total_sales in total_sales_per_category.items():\n",
       "            writer.writerow([category, total_sales])\n",
       "    \n",
       "if __name__ == \"__main__\":\n",
       "    file_path = 'sales_data.csv'\n",
       "    sales_data = read_sales_data(file_path)\n",
       "    \n",
       "    if sales_data:\n",
       "        total_sales = calculate_total_sales(sales_data)\n",
       "        best_selling_product = find_best_selling_product(sales_data)\n",
       "        total_sales_per_category = calculate_total_sales_per_category(sales_data)\n",
       "        \n",
       "        generate_summary_report(total_sales, best_selling_product, total_sales_per_category)\n",
       "```\n",
       "```python\n",
       "# Sample sales_data.csv file content:\n",
       "# product_id,product_name,quantity_sold,sales_amount\n",
       "# 1,ProductA 123,10,100.0\n",
       "# 2,ProductB 456,20,200.0\n",
       "# 3,ProductC 789,30,300.0\n",
       "```"
      ],
      "text/plain": [
       "<IPython.core.display.Markdown object>"
      ]
     },
     "execution_count": 58,
     "metadata": {},
     "output_type": "execute_result"
    }
   ],
   "source": [
    "prompt = \"\"\"Write a python Problem Statement:\n",
    "\n",
    "You are tasked with developing a Python program to analyze the sales data of a retail store. The program should read a CSV file containing sales data, including the product ID, product name, quantity sold, and sales amount. Upon reading the data, the program should perform the following tasks:\n",
    "\n",
    "Calculate the total sales amount.\n",
    "Determine the best-selling product (the product with the highest quantity sold).\n",
    "Identify the total sales for each product category.\n",
    "Generate a summary report containing the total sales amount, the best-selling product, and the total sales for each product category.\n",
    "The program should provide a user-friendly interface to display the summary report and allow the user to export the report to a CSV file for further analysis.\n",
    "\n",
    "Example Input:\n",
    "\n",
    "CSV file containing sales data (product ID, product name, quantity sold, sales amount)\n",
    "Example Output:\n",
    "\n",
    "Total sales amount: $XXXX\n",
    "Best-selling product: ProductName (Quantity Sold: XX)\n",
    "Total sales for each product category:\n",
    "Category1: $XXXX\n",
    "Category2: $XXXX\n",
    "...\n",
    "Summary report exported to CSV file: summary_report.csv\n",
    "Additional Requirements:\n",
    "\n",
    "The program should handle cases where the input file is missing or incorrectly formatted.\n",
    "It should be able to handle large datasets efficiently.\n",
    "Error messages and warnings should be displayed to guide the user in case of issues with the input data or during the execution of the program.\n",
    "Develop a Python program that fulfills the requirements outlined above.\"\"\"\n",
    "\n",
    "messages = [\n",
    "    {\n",
    "        \"role\": \"user\",\n",
    "        \"content\": prompt\n",
    "    }\n",
    "]\n",
    "params = set_open_params(\n",
    "    temperature=0,\n",
    "    max_tokens=4000,\n",
    "    top_p=1\n",
    ")\n",
    "response = get_completion(params, messages)\n",
    "IPython.display.Markdown(response.choices[0].message.content)"
   ]
  },
  {
   "cell_type": "markdown",
   "metadata": {},
   "source": [
    "## Reasoning"
   ]
  },
  {
   "cell_type": "code",
   "execution_count": 59,
   "metadata": {},
   "outputs": [
    {
     "data": {
      "text/markdown": [
       "Odd numbers in the group: 15, 5, 13, 7, 1\n",
       "\n",
       "Adding the odd numbers: 15 + 5 + 13 + 7 + 1 = 41\n",
       "\n",
       "The sum of the odd numbers (41) is an odd number."
      ],
      "text/plain": [
       "<IPython.core.display.Markdown object>"
      ]
     },
     "execution_count": 59,
     "metadata": {},
     "output_type": "execute_result"
    }
   ],
   "source": [
    "prompt = \"\"\"The odd numbers in this group add up to an even number: 15, 32, 5, 13, 82, 7, 1. \n",
    "\n",
    "Solve by breaking the problem into steps. First, identify the odd numbers, add them, and indicate whether the result is odd or even.\"\"\"\n",
    "\n",
    "messages = [\n",
    "    {\n",
    "        \"role\": \"user\",\n",
    "        \"content\": prompt\n",
    "    }\n",
    "]\n",
    "\n",
    "response = get_completion(params, messages)\n",
    "IPython.display.Markdown(response.choices[0].message.content)"
   ]
  },
  {
   "cell_type": "markdown",
   "metadata": {},
   "source": [
    " ## Few-shot prompts  \n",
    " ### 1-shot | 3-shot | 5-shot --- number of exmaples"
   ]
  },
  {
   "cell_type": "code",
   "execution_count": 60,
   "metadata": {},
   "outputs": [
    {
     "data": {
      "text/markdown": [
       "The answer is True."
      ],
      "text/plain": [
       "<IPython.core.display.Markdown object>"
      ]
     },
     "execution_count": 60,
     "metadata": {},
     "output_type": "execute_result"
    }
   ],
   "source": [
    "prompt = \"\"\"The odd numbers in this group add up to an even number: 4, 8, 9, 15, 12, 2, 1.\n",
    "A: The answer is False.\n",
    "\n",
    "The odd numbers in this group add up to an even number: 17,  10, 19, 4, 8, 12, 24.\n",
    "A: The answer is True.\n",
    "\n",
    "The odd numbers in this group add up to an even number: 16,  11, 14, 4, 8, 13, 24.\n",
    "A: The answer is True.\n",
    "\n",
    "The odd numbers in this group add up to an even number: 17,  9, 10, 12, 13, 4, 2.\n",
    "A: The answer is False.\n",
    "\n",
    "The odd numbers in this group add up to an even number: 15, 32, 5, 13, 82, 7, 1. \n",
    "A:\"\"\"\n",
    "\n",
    "messages = [\n",
    "    {\n",
    "        \"role\": \"user\",\n",
    "        \"content\": prompt\n",
    "    }\n",
    "]\n",
    "\n",
    "response = get_completion(params, messages)\n",
    "IPython.display.Markdown(response.choices[0].message.content)"
   ]
  },
  {
   "cell_type": "markdown",
   "metadata": {},
   "source": [
    "\n",
    "## Chain of thoughts \n",
    "Add step by steps reasoning about solving in the example . "
   ]
  },
  {
   "cell_type": "code",
   "execution_count": 63,
   "metadata": {},
   "outputs": [
    {
     "data": {
      "text/markdown": [
       "Adding all the odd numbers (15, 5, 13, 7, 1) gives 41. The answer is False."
      ],
      "text/plain": [
       "<IPython.core.display.Markdown object>"
      ]
     },
     "execution_count": 63,
     "metadata": {},
     "output_type": "execute_result"
    }
   ],
   "source": [
    "prompt = \"\"\"The odd numbers in this group add up to an even number: 4, 8, 9, 15, 12, 2, 1.\n",
    "A: Adding all the odd numbers (9, 15, 1) gives 25. The answer is False.\n",
    "\n",
    "The odd numbers in this group add up to an even number: 15, 32, 5, 13, 82, 7, 1. \n",
    "A:\"\"\"\n",
    "\n",
    "messages = [\n",
    "    {\n",
    "        \"role\": \"user\",\n",
    "        \"content\": prompt\n",
    "    }\n",
    "]\n",
    "\n",
    "response = get_completion(params, messages)\n",
    "IPython.display.Markdown(response.choices[0].message.content)"
   ]
  },
  {
   "cell_type": "markdown",
   "metadata": {},
   "source": [
    "## Zero-shot CoT\n",
    "\n",
    "All we need to do add \"Let's think step by step.\""
   ]
  },
  {
   "cell_type": "code",
   "execution_count": 62,
   "metadata": {},
   "outputs": [
    {
     "data": {
      "text/markdown": [
       "Initially, you had 10 apples.\n",
       "After giving 2 apples to the neighbor, you had 10 - 2 = 8 apples.\n",
       "After giving 2 apples to the repairman, you had 8 - 2 = 6 apples.\n",
       "After buying 5 more apples, you had 6 + 5 = 11 apples.\n",
       "After eating 1 apple, you remained with 11 - 1 = 10 apples.\n",
       "\n",
       "So, you remained with 10 apples in the end."
      ],
      "text/plain": [
       "<IPython.core.display.Markdown object>"
      ]
     },
     "execution_count": 62,
     "metadata": {},
     "output_type": "execute_result"
    }
   ],
   "source": [
    "prompt = \"\"\"I went to the market and bought 10 apples. I gave 2 apples to the neighbor and 2 to the repairman. I then went and bought 5 more apples and ate 1. How many apples did I remain with?\n",
    "\n",
    "Let's think step by step.\"\"\"\n",
    "\n",
    "messages = [\n",
    "    {\n",
    "        \"role\": \"user\",\n",
    "        \"content\": prompt\n",
    "    }\n",
    "]\n",
    "\n",
    "response = get_completion(params, messages)\n",
    "IPython.display.Markdown(response.choices[0].message.content)"
   ]
  }
 ],
 "metadata": {
  "kernelspec": {
   "display_name": "Python 3",
   "language": "python",
   "name": "python3"
  },
  "language_info": {
   "codemirror_mode": {
    "name": "ipython",
    "version": 3
   },
   "file_extension": ".py",
   "mimetype": "text/x-python",
   "name": "python",
   "nbconvert_exporter": "python",
   "pygments_lexer": "ipython3",
   "version": "3.9.6"
  }
 },
 "nbformat": 4,
 "nbformat_minor": 2
}
