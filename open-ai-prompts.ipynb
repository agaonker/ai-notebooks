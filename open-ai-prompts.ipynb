%%capture
#  libraries
!pip install --upgrade openai
!pip install --upgrade langchain
# store the API key in a .env file
!pip install --upgrade python-dotenv
